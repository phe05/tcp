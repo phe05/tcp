{
  "nbformat": 4,
  "nbformat_minor": 0,
  "metadata": {
    "colab": {
      "provenance": [],
      "authorship_tag": "ABX9TyMjj9G+8NxNiOpHm7WF8WS7",
      "include_colab_link": true
    },
    "kernelspec": {
      "name": "python3",
      "display_name": "Python 3"
    },
    "language_info": {
      "name": "python"
    }
  },
  "cells": [
    {
      "cell_type": "markdown",
      "metadata": {
        "id": "view-in-github",
        "colab_type": "text"
      },
      "source": [
        "<a href=\"https://colab.research.google.com/github/phe05/tcp/blob/main/google.ipynb\" target=\"_parent\"><img src=\"https://colab.research.google.com/assets/colab-badge.svg\" alt=\"Open In Colab\"/></a>"
      ]
    },
    {
      "cell_type": "code",
      "execution_count": 16,
      "metadata": {
        "colab": {
          "base_uri": "https://localhost:8080/"
        },
        "id": "YlEARBVlGvD7",
        "outputId": "bd7ed716-7baf-4beb-cddc-6466bed6f558"
      },
      "outputs": [
        {
          "output_type": "stream",
          "name": "stdout",
          "text": [
            "Received HTTP/1.1 400 Bad Request\r\n",
            "Date: Thu, 28 Mar 2024 04:45:00 GMT\r\n",
            "Server: Apache\r\n",
            "Upgrade: h2,h2c\r\n",
            "Connection: Upgrade, close\r\n",
            "Accept-Ranges: bytes\r\n",
            "Vary: Accept-Encoding\r\n",
            "Cache-Control: no-cache, no-store, must-revalidate\r\n",
            "Pragma: no-cache\r\n",
            "Expires: 0\r\n",
            "Content-Type: text/html\r\n",
            "\r\n",
            "\n",
            "\n",
            "\n",
            "<!DOCTYPE html>\n",
            "<html>\n",
            "    <head>\n",
            "    <meta http-equiv=\"Content-type\" content=\"text/html; charset=utf-8\">\n",
            "    <meta http-equiv=\"Cache-control\" content=\"no-cache\">\n",
            "    <meta http-equiv=\"Pragma\" content=\"no-cache\">\n",
            "    <meta http-equiv=\"Expires\" content=\"0\">\n",
            "    <meta name=\"viewport\" content=\"width=device-width, initial-scale=1.0\">\n",
            "    <title>400 Bad Request</title>\n",
            "    <style type=\"text/css\">\n",
            "        body {\n",
            "            font-family: Arial, Helvetica, sans-serif;\n",
            "            font-size: 14px;\n",
            "            line-height: 1.428571429;\n",
            "            background-color: #ffffff;\n",
            "            color: #2F3230;\n",
            "            padding: 0;\n",
            "            margin: 0;\n",
            "        }\n",
            "        section, footer {\n",
            "            display: block;\n",
            "            padding: 0;\n",
            "         \n"
          ]
        }
      ],
      "source": [
        "import socket\n",
        "\n",
        "HOST = \"daum.com\"\n",
        "PORT = 80\n",
        "\n",
        "with socket.socket(socket.AF_INET, socket.SOCK_STREAM) as s:\n",
        "    s.connect((HOST, PORT))\n",
        "    s.sendall(b\"GET / HTTP/1.2\\n\\n\")\n",
        "    data = s.recv(1024)\n",
        "\n",
        "print(f\"Received {data.decode('utf-8')}\")\n"
      ]
    },
    {
      "cell_type": "code",
      "source": [
        "!curl ipecho.net/plain"
      ],
      "metadata": {
        "colab": {
          "base_uri": "https://localhost:8080/"
        },
        "id": "8o7-I6ZgVKmm",
        "outputId": "1bba9847-2433-4229-82c0-90c30fcc50d3"
      },
      "execution_count": 17,
      "outputs": [
        {
          "output_type": "stream",
          "name": "stdout",
          "text": [
            "34.75.120.93"
          ]
        }
      ]
    },
    {
      "cell_type": "code",
      "source": [],
      "metadata": {
        "id": "yi1MmzQnVO3E"
      },
      "execution_count": null,
      "outputs": []
    }
  ]
}